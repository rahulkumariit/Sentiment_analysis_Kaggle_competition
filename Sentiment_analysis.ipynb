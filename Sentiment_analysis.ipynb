{
  "nbformat": 4,
  "nbformat_minor": 0,
  "metadata": {
    "colab": {
      "name": "Sentiment_analysis.ipynb",
      "provenance": []
    },
    "kernelspec": {
      "name": "python3",
      "display_name": "Python 3"
    }
  },
  "cells": [
    {
      "cell_type": "code",
      "metadata": {
        "id": "4p7DjM1ThEZ2"
      },
      "source": [
        "# Importing important libraries and functions\r\n",
        "import numpy as np\r\n",
        "import pandas as pd\r\n",
        "import matplotlib.pyplot as plt\r\n",
        "from sklearn.feature_extraction.text import CountVectorizer\r\n",
        "from sklearn.ensemble import RandomForestClassifier\r\n",
        "from sklearn.metrics import roc_auc_score\r\n",
        "from bs4 import BeautifulSoup\r\n",
        "import re\r\n",
        "import nltk\r\n",
        "from nltk.corpus import stopwords"
      ],
      "execution_count": 150,
      "outputs": []
    },
    {
      "cell_type": "code",
      "metadata": {
        "id": "6UAYSDQ_jAwa"
      },
      "source": [
        "# Uploading training data, data to be predicted and sample submission file\r\n",
        "train_data = pd.read_csv('labeledTrainData.tsv',  delimiter=\"\\t\", quoting=3)\r\n",
        "test_data = pd.read_csv('testData.tsv', delimiter = \"\\t\", quoting= 3 )\r\n",
        "submission1 = pd.read_csv(\"sampleSubmission.csv\")"
      ],
      "execution_count": 151,
      "outputs": []
    },
    {
      "cell_type": "code",
      "metadata": {
        "colab": {
          "base_uri": "https://localhost:8080/",
          "height": 195
        },
        "id": "ZwLmkTzljHix",
        "outputId": "ba901cb0-a858-4706-b0eb-ee707ccb4ef3"
      },
      "source": [
        "# Analyzing the training data\r\n",
        "train_data.head()"
      ],
      "execution_count": 152,
      "outputs": [
        {
          "output_type": "execute_result",
          "data": {
            "text/html": [
              "<div>\n",
              "<style scoped>\n",
              "    .dataframe tbody tr th:only-of-type {\n",
              "        vertical-align: middle;\n",
              "    }\n",
              "\n",
              "    .dataframe tbody tr th {\n",
              "        vertical-align: top;\n",
              "    }\n",
              "\n",
              "    .dataframe thead th {\n",
              "        text-align: right;\n",
              "    }\n",
              "</style>\n",
              "<table border=\"1\" class=\"dataframe\">\n",
              "  <thead>\n",
              "    <tr style=\"text-align: right;\">\n",
              "      <th></th>\n",
              "      <th>id</th>\n",
              "      <th>sentiment</th>\n",
              "      <th>review</th>\n",
              "    </tr>\n",
              "  </thead>\n",
              "  <tbody>\n",
              "    <tr>\n",
              "      <th>0</th>\n",
              "      <td>\"5814_8\"</td>\n",
              "      <td>1</td>\n",
              "      <td>\"With all this stuff going down at the moment ...</td>\n",
              "    </tr>\n",
              "    <tr>\n",
              "      <th>1</th>\n",
              "      <td>\"2381_9\"</td>\n",
              "      <td>1</td>\n",
              "      <td>\"\\\"The Classic War of the Worlds\\\" by Timothy ...</td>\n",
              "    </tr>\n",
              "    <tr>\n",
              "      <th>2</th>\n",
              "      <td>\"7759_3\"</td>\n",
              "      <td>0</td>\n",
              "      <td>\"The film starts with a manager (Nicholas Bell...</td>\n",
              "    </tr>\n",
              "    <tr>\n",
              "      <th>3</th>\n",
              "      <td>\"3630_4\"</td>\n",
              "      <td>0</td>\n",
              "      <td>\"It must be assumed that those who praised thi...</td>\n",
              "    </tr>\n",
              "    <tr>\n",
              "      <th>4</th>\n",
              "      <td>\"9495_8\"</td>\n",
              "      <td>1</td>\n",
              "      <td>\"Superbly trashy and wondrously unpretentious ...</td>\n",
              "    </tr>\n",
              "  </tbody>\n",
              "</table>\n",
              "</div>"
            ],
            "text/plain": [
              "         id  sentiment                                             review\n",
              "0  \"5814_8\"          1  \"With all this stuff going down at the moment ...\n",
              "1  \"2381_9\"          1  \"\\\"The Classic War of the Worlds\\\" by Timothy ...\n",
              "2  \"7759_3\"          0  \"The film starts with a manager (Nicholas Bell...\n",
              "3  \"3630_4\"          0  \"It must be assumed that those who praised thi...\n",
              "4  \"9495_8\"          1  \"Superbly trashy and wondrously unpretentious ..."
            ]
          },
          "metadata": {
            "tags": []
          },
          "execution_count": 152
        }
      ]
    },
    {
      "cell_type": "code",
      "metadata": {
        "colab": {
          "base_uri": "https://localhost:8080/"
        },
        "id": "1L0xIM8QjZPs",
        "outputId": "49f0bfc7-642e-4fcc-c02c-f5298ab973b7"
      },
      "source": [
        "# Cheking for any missing values in training data\r\n",
        "train_data.isnull().sum().sum()     # Zero missing values"
      ],
      "execution_count": 153,
      "outputs": [
        {
          "output_type": "execute_result",
          "data": {
            "text/plain": [
              "0"
            ]
          },
          "metadata": {
            "tags": []
          },
          "execution_count": 153
        }
      ]
    },
    {
      "cell_type": "code",
      "metadata": {
        "colab": {
          "base_uri": "https://localhost:8080/"
        },
        "id": "O4WVXDynj7bk",
        "outputId": "a7cc8966-267c-40d8-d129-744a84a03598"
      },
      "source": [
        "# Since we have three columns in which the sentiment column is target variable and id is not required for training so we will pre process the training data containing reviews only\r\n",
        "# Each review is in the form of a paragraph with HTML tags, punctuations, numbers and stopwords such as is, are am etc so we need to clean them \r\n",
        "# For cleaning below is the function which uses beautifulsoup, regular expression and natural language toolkit to achieve the above \r\n",
        "\r\n",
        "# creating train_y as target variable in the form of an array\r\n",
        "train_y = np.array(train_data[\"sentiment\"])\r\n",
        "\r\n",
        "# To eliminate stop word we need to download its vacab from nltk\r\n",
        "nltk.download('stopwords')\r\n",
        "\r\n",
        "def process(review):\r\n",
        "   # review without HTML tags\r\n",
        "   review = BeautifulSoup(review).get_text()\r\n",
        "   # review without punctuation and numbers\r\n",
        "   review = re.sub(\"[^a-zA-Z]\",' ',review)\r\n",
        "   # converting into lowercase and splitting to eliminate stopwords\r\n",
        "   review = review.lower()\r\n",
        "   review = review.split()\r\n",
        "   # review without stopwords\r\n",
        "   swords = set(stopwords.words(\"english\"))                      # conversion into set for fast searching\r\n",
        "   review = [w for w in review if w not in swords]               \r\n",
        "   # joining of splitted paragraph by spaces and return\r\n",
        "   return(\" \".join(review))"
      ],
      "execution_count": 154,
      "outputs": [
        {
          "output_type": "stream",
          "text": [
            "[nltk_data] Downloading package stopwords to /root/nltk_data...\n",
            "[nltk_data]   Package stopwords is already up-to-date!\n"
          ],
          "name": "stdout"
        }
      ]
    },
    {
      "cell_type": "code",
      "metadata": {
        "colab": {
          "base_uri": "https://localhost:8080/"
        },
        "id": "W_jXoWaRkJF7",
        "outputId": "379226d8-1e25-4812-f88a-077ffaa59acd"
      },
      "source": [
        "# processing the training data with the help of function defined above\r\n",
        "\r\n",
        "train_x = []\r\n",
        "for r in range(len(train_data[\"review\"])):\r\n",
        "  if (r+1)%1000 == 0:\r\n",
        "    print(\"No of reviews processed =\", r+1)\r\n",
        "  train_x.append(process(train_data[\"review\"][r]))\r\n"
      ],
      "execution_count": 155,
      "outputs": [
        {
          "output_type": "stream",
          "text": [
            "No of reviews processed = 1000\n",
            "No of reviews processed = 2000\n",
            "No of reviews processed = 3000\n",
            "No of reviews processed = 4000\n",
            "No of reviews processed = 5000\n",
            "No of reviews processed = 6000\n",
            "No of reviews processed = 7000\n",
            "No of reviews processed = 8000\n",
            "No of reviews processed = 9000\n",
            "No of reviews processed = 10000\n",
            "No of reviews processed = 11000\n",
            "No of reviews processed = 12000\n",
            "No of reviews processed = 13000\n",
            "No of reviews processed = 14000\n",
            "No of reviews processed = 15000\n",
            "No of reviews processed = 16000\n",
            "No of reviews processed = 17000\n",
            "No of reviews processed = 18000\n",
            "No of reviews processed = 19000\n",
            "No of reviews processed = 20000\n",
            "No of reviews processed = 21000\n",
            "No of reviews processed = 22000\n",
            "No of reviews processed = 23000\n",
            "No of reviews processed = 24000\n",
            "No of reviews processed = 25000\n"
          ],
          "name": "stdout"
        }
      ]
    },
    {
      "cell_type": "code",
      "metadata": {
        "id": "15EvkrtYkaqS"
      },
      "source": [
        "# Now we have our processed and cleaned training set but it is in the form of text but to train we need to convert it into numerical data\r\n",
        "# For that we will use bag of words which is based on the frequency that each word occur in a review within training data and we will go for 5000 most common words\r\n",
        "\r\n",
        "# Initializing the countvectorizer which is a sklearn tool for bag of words\r\n",
        "vectorizer = CountVectorizer( max_features = 5000 )\r\n",
        "# Now we will use fit_transform which fits the model to learn vocabulary for 5000 most common words and then transform the training data into feature vectors\r\n",
        "train_x = vectorizer.fit_transform(train_x)\r\n",
        "# conversion into array\r\n",
        "train_x = train_x.toarray()\r\n"
      ],
      "execution_count": 156,
      "outputs": []
    },
    {
      "cell_type": "code",
      "metadata": {
        "id": "Fw_kW484bsc8",
        "outputId": "0ef2c0ba-dd92-4357-896c-7e35d8285b21",
        "colab": {
          "base_uri": "https://localhost:8080/"
        }
      },
      "source": [
        "# Final train_x and train_y\r\n",
        "train_x.shape, train_y.shape"
      ],
      "execution_count": 157,
      "outputs": [
        {
          "output_type": "execute_result",
          "data": {
            "text/plain": [
              "((25000, 5000), (25000,))"
            ]
          },
          "metadata": {
            "tags": []
          },
          "execution_count": 157
        }
      ]
    },
    {
      "cell_type": "code",
      "metadata": {
        "id": "UsP2D2uucaze",
        "outputId": "57bbb917-3bfd-458b-c395-cd92762e9434",
        "colab": {
          "base_uri": "https://localhost:8080/",
          "height": 195
        }
      },
      "source": [
        "# Analyzing data to be predicted\r\n",
        "test_data.head()"
      ],
      "execution_count": 158,
      "outputs": [
        {
          "output_type": "execute_result",
          "data": {
            "text/html": [
              "<div>\n",
              "<style scoped>\n",
              "    .dataframe tbody tr th:only-of-type {\n",
              "        vertical-align: middle;\n",
              "    }\n",
              "\n",
              "    .dataframe tbody tr th {\n",
              "        vertical-align: top;\n",
              "    }\n",
              "\n",
              "    .dataframe thead th {\n",
              "        text-align: right;\n",
              "    }\n",
              "</style>\n",
              "<table border=\"1\" class=\"dataframe\">\n",
              "  <thead>\n",
              "    <tr style=\"text-align: right;\">\n",
              "      <th></th>\n",
              "      <th>id</th>\n",
              "      <th>review</th>\n",
              "    </tr>\n",
              "  </thead>\n",
              "  <tbody>\n",
              "    <tr>\n",
              "      <th>0</th>\n",
              "      <td>\"12311_10\"</td>\n",
              "      <td>\"Naturally in a film who's main themes are of ...</td>\n",
              "    </tr>\n",
              "    <tr>\n",
              "      <th>1</th>\n",
              "      <td>\"8348_2\"</td>\n",
              "      <td>\"This movie is a disaster within a disaster fi...</td>\n",
              "    </tr>\n",
              "    <tr>\n",
              "      <th>2</th>\n",
              "      <td>\"5828_4\"</td>\n",
              "      <td>\"All in all, this is a movie for kids. We saw ...</td>\n",
              "    </tr>\n",
              "    <tr>\n",
              "      <th>3</th>\n",
              "      <td>\"7186_2\"</td>\n",
              "      <td>\"Afraid of the Dark left me with the impressio...</td>\n",
              "    </tr>\n",
              "    <tr>\n",
              "      <th>4</th>\n",
              "      <td>\"12128_7\"</td>\n",
              "      <td>\"A very accurate depiction of small time mob l...</td>\n",
              "    </tr>\n",
              "  </tbody>\n",
              "</table>\n",
              "</div>"
            ],
            "text/plain": [
              "           id                                             review\n",
              "0  \"12311_10\"  \"Naturally in a film who's main themes are of ...\n",
              "1    \"8348_2\"  \"This movie is a disaster within a disaster fi...\n",
              "2    \"5828_4\"  \"All in all, this is a movie for kids. We saw ...\n",
              "3    \"7186_2\"  \"Afraid of the Dark left me with the impressio...\n",
              "4   \"12128_7\"  \"A very accurate depiction of small time mob l..."
            ]
          },
          "metadata": {
            "tags": []
          },
          "execution_count": 158
        }
      ]
    },
    {
      "cell_type": "code",
      "metadata": {
        "id": "rdsTrBl2ckas",
        "outputId": "301391e6-780e-4bf4-c713-8c405cc1b1de",
        "colab": {
          "base_uri": "https://localhost:8080/"
        }
      },
      "source": [
        "# Checking for any missing values\r\n",
        "test_data.isnull().sum().sum()   # No missing values"
      ],
      "execution_count": 159,
      "outputs": [
        {
          "output_type": "execute_result",
          "data": {
            "text/plain": [
              "0"
            ]
          },
          "metadata": {
            "tags": []
          },
          "execution_count": 159
        }
      ]
    },
    {
      "cell_type": "code",
      "metadata": {
        "id": "lzaWVV9fcvMT",
        "outputId": "df7d51db-4f53-4b9d-c812-666ad87daabf",
        "colab": {
          "base_uri": "https://localhost:8080/"
        }
      },
      "source": [
        "# processing the data to be predicted with the help of function defined above\r\n",
        "\r\n",
        "test = []\r\n",
        "for r in range(len(test_data[\"review\"])):\r\n",
        "  if (r+1)%1000 == 0:\r\n",
        "    print(\"No of reviews processed =\", r+1)\r\n",
        "  test.append(process(test_data[\"review\"][r]))\r\n"
      ],
      "execution_count": 160,
      "outputs": [
        {
          "output_type": "stream",
          "text": [
            "No of reviews processed = 1000\n",
            "No of reviews processed = 2000\n",
            "No of reviews processed = 3000\n",
            "No of reviews processed = 4000\n",
            "No of reviews processed = 5000\n",
            "No of reviews processed = 6000\n",
            "No of reviews processed = 7000\n",
            "No of reviews processed = 8000\n",
            "No of reviews processed = 9000\n",
            "No of reviews processed = 10000\n",
            "No of reviews processed = 11000\n",
            "No of reviews processed = 12000\n",
            "No of reviews processed = 13000\n",
            "No of reviews processed = 14000\n",
            "No of reviews processed = 15000\n",
            "No of reviews processed = 16000\n",
            "No of reviews processed = 17000\n",
            "No of reviews processed = 18000\n",
            "No of reviews processed = 19000\n",
            "No of reviews processed = 20000\n",
            "No of reviews processed = 21000\n",
            "No of reviews processed = 22000\n",
            "No of reviews processed = 23000\n",
            "No of reviews processed = 24000\n",
            "No of reviews processed = 25000\n"
          ],
          "name": "stdout"
        }
      ]
    },
    {
      "cell_type": "code",
      "metadata": {
        "id": "823Z70T_dDUB"
      },
      "source": [
        "# Converting the text data in data to be predicted into bag of words feature vectors\r\n",
        "test = vectorizer.transform(test)\r\n",
        "# conversion into array\r\n",
        "test = test.toarray()"
      ],
      "execution_count": 161,
      "outputs": []
    },
    {
      "cell_type": "code",
      "metadata": {
        "id": "PZoWjBnsd-Za",
        "outputId": "66e576e3-08f2-4eac-d4ef-9d10fa00c941",
        "colab": {
          "base_uri": "https://localhost:8080/"
        }
      },
      "source": [
        "# Final data to be predicted\r\n",
        "test.shape"
      ],
      "execution_count": 162,
      "outputs": [
        {
          "output_type": "execute_result",
          "data": {
            "text/plain": [
              "(25000, 5000)"
            ]
          },
          "metadata": {
            "tags": []
          },
          "execution_count": 162
        }
      ]
    },
    {
      "cell_type": "code",
      "metadata": {
        "id": "uW-EI_loLXcO"
      },
      "source": [
        "# Creating a model, fitting and seeing the performance on training data\r\n",
        "\r\n",
        "model = RandomForestClassifier(n_estimators = 100)\r\n",
        "model.fit(train_x, train_y)\r\n",
        "train_predict = model.predict(train_x)\r\n",
        "AUC = roc_auc_score(train_y, train_predict)"
      ],
      "execution_count": 163,
      "outputs": []
    },
    {
      "cell_type": "code",
      "metadata": {
        "id": "8VQnQNcjecsZ",
        "outputId": "15163d29-100d-46e7-c29c-4927dd22b43e",
        "colab": {
          "base_uri": "https://localhost:8080/"
        }
      },
      "source": [
        "# printing AUC\r\n",
        "AUC   "
      ],
      "execution_count": 164,
      "outputs": [
        {
          "output_type": "execute_result",
          "data": {
            "text/plain": [
              "1.0"
            ]
          },
          "metadata": {
            "tags": []
          },
          "execution_count": 164
        }
      ]
    },
    {
      "cell_type": "code",
      "metadata": {
        "id": "gbEkxnyqfPfP"
      },
      "source": [
        "# prediction on data to be predicted\r\n",
        "submission2 = model.predict(test)"
      ],
      "execution_count": 171,
      "outputs": []
    },
    {
      "cell_type": "code",
      "metadata": {
        "id": "ngEZGnfLgidc"
      },
      "source": [
        "# Conversion of predicted arry to dataframe and combining with sample submission\r\n",
        "submission2 = pd.DataFrame(submission2)\r\n",
        "submission = pd.concat([submission1, submission2], axis =1)"
      ],
      "execution_count": 166,
      "outputs": []
    },
    {
      "cell_type": "code",
      "metadata": {
        "id": "Q9P6xKhbg-Bg"
      },
      "source": [
        "# Removing the sentiment column from sample submission and renaming the predicted column from 0 to \"sentiment\"\r\n",
        "submission.drop(columns=[\"sentiment\"], inplace=True)\r\n",
        "submission = submission.rename(columns = {0 :\"sentiment\"})"
      ],
      "execution_count": 167,
      "outputs": []
    },
    {
      "cell_type": "code",
      "metadata": {
        "id": "I5MW-GtYhDae",
        "outputId": "53fd7bb3-9c4c-4a18-a8f6-a57e69d833b6",
        "colab": {
          "base_uri": "https://localhost:8080/",
          "height": 402
        }
      },
      "source": [
        "# Final submission file\r\n",
        "submission"
      ],
      "execution_count": 168,
      "outputs": [
        {
          "output_type": "execute_result",
          "data": {
            "text/html": [
              "<div>\n",
              "<style scoped>\n",
              "    .dataframe tbody tr th:only-of-type {\n",
              "        vertical-align: middle;\n",
              "    }\n",
              "\n",
              "    .dataframe tbody tr th {\n",
              "        vertical-align: top;\n",
              "    }\n",
              "\n",
              "    .dataframe thead th {\n",
              "        text-align: right;\n",
              "    }\n",
              "</style>\n",
              "<table border=\"1\" class=\"dataframe\">\n",
              "  <thead>\n",
              "    <tr style=\"text-align: right;\">\n",
              "      <th></th>\n",
              "      <th>id</th>\n",
              "      <th>sentiment</th>\n",
              "    </tr>\n",
              "  </thead>\n",
              "  <tbody>\n",
              "    <tr>\n",
              "      <th>0</th>\n",
              "      <td>12311_10</td>\n",
              "      <td>1</td>\n",
              "    </tr>\n",
              "    <tr>\n",
              "      <th>1</th>\n",
              "      <td>8348_2</td>\n",
              "      <td>0</td>\n",
              "    </tr>\n",
              "    <tr>\n",
              "      <th>2</th>\n",
              "      <td>5828_4</td>\n",
              "      <td>1</td>\n",
              "    </tr>\n",
              "    <tr>\n",
              "      <th>3</th>\n",
              "      <td>7186_2</td>\n",
              "      <td>1</td>\n",
              "    </tr>\n",
              "    <tr>\n",
              "      <th>4</th>\n",
              "      <td>12128_7</td>\n",
              "      <td>1</td>\n",
              "    </tr>\n",
              "    <tr>\n",
              "      <th>...</th>\n",
              "      <td>...</td>\n",
              "      <td>...</td>\n",
              "    </tr>\n",
              "    <tr>\n",
              "      <th>24995</th>\n",
              "      <td>2155_10</td>\n",
              "      <td>1</td>\n",
              "    </tr>\n",
              "    <tr>\n",
              "      <th>24996</th>\n",
              "      <td>59_10</td>\n",
              "      <td>1</td>\n",
              "    </tr>\n",
              "    <tr>\n",
              "      <th>24997</th>\n",
              "      <td>2531_1</td>\n",
              "      <td>0</td>\n",
              "    </tr>\n",
              "    <tr>\n",
              "      <th>24998</th>\n",
              "      <td>7772_8</td>\n",
              "      <td>1</td>\n",
              "    </tr>\n",
              "    <tr>\n",
              "      <th>24999</th>\n",
              "      <td>11465_10</td>\n",
              "      <td>1</td>\n",
              "    </tr>\n",
              "  </tbody>\n",
              "</table>\n",
              "<p>25000 rows × 2 columns</p>\n",
              "</div>"
            ],
            "text/plain": [
              "             id  sentiment\n",
              "0      12311_10          1\n",
              "1        8348_2          0\n",
              "2        5828_4          1\n",
              "3        7186_2          1\n",
              "4       12128_7          1\n",
              "...         ...        ...\n",
              "24995   2155_10          1\n",
              "24996     59_10          1\n",
              "24997    2531_1          0\n",
              "24998    7772_8          1\n",
              "24999  11465_10          1\n",
              "\n",
              "[25000 rows x 2 columns]"
            ]
          },
          "metadata": {
            "tags": []
          },
          "execution_count": 168
        }
      ]
    },
    {
      "cell_type": "code",
      "metadata": {
        "id": "o6s8w7SMhqGk"
      },
      "source": [
        "# saving the final dubmission file in csv format\r\n",
        "submission.to_csv(\"Submission.csv\")"
      ],
      "execution_count": 169,
      "outputs": []
    }
  ]
}